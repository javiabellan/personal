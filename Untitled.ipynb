{
 "cells": [
  {
   "cell_type": "markdown",
   "metadata": {},
   "source": [
    "# Componentes ordenador\n",
    "\n",
    "\n",
    "| Componente      | Prestaciones            | Modelo                     | Precio |\n",
    "| --------------- | ----------------------- | -------------------------- | ------ |\n",
    "| Targeta gráfica | GTX 1080, 2560 cores    | Gigabyte Windforce OC      | 519€   |\n",
    "| Procesador      | 4 cores, 3.8 Ghz        | Intel Core i5 7600K        | 229€   |\n",
    "| RAM 16GB        | 16 GB, DDR4-3200, CL16  | Corsair Vengeance LPX      | 159€   |\n",
    "| SSD 500GB       | 500 GB, SATA3, 540 Mb/s | Samsung 850 EVO            | 155€   |\n",
    "| Placa madre     | Z270 ATX                | Gigabyte GA-Z270-HD3P      | 119€   |\n",
    "| HDD 2TB         | 2TB, SATA3, 7200rpm     | Seagate Barracuda          | 76€    |\n",
    "| Fuente energía  | 650W                    | Corsair VS                 | 60€    |\n",
    "| Refrigeración   | Ventilador              | Cooler Master Hyper 212X   | 31€    |\n",
    "| Caja            | ATX                     | La de Alberto              | 0€     |\n",
    "\n",
    "Total 1348€\n",
    "\n",
    "\n",
    "## Targeta gráfica\n",
    "\n",
    "Se debe maximizar el número de núcleos CUDA y la cantidad de memoria.\n",
    "\n",
    "#### Nvidia\n",
    "\n",
    "|             | GTX 1060 | GTX 1070 | GTX 1080 | GTX 1080Ti |\n",
    "| ----------- | -------- | -------- | -------- | ---------- |\n",
    "| Núcleos     | 1280     | 1920     | 2560     | 3584       |\n",
    "| Memoria     | 6GB      | 8GB      | 8GB      | 11GB       |\n",
    "| Rendimiento | X TFLOPS | X TFLOPS | X TFLOPS | X TFLOPS   | \n",
    "| Consumo     | 120W     | 150W     | 180W     | X W        |\n",
    "| Precio      | 255€     | 424€     | 519€     | X €        |"
   ]
  },
  {
   "cell_type": "code",
   "execution_count": null,
   "metadata": {},
   "outputs": [],
   "source": [
    "import plotly.plotly as py\n",
    "from plotly.graph_objs import *\n",
    "\n",
    "trace_women = Bar(x=df.School,\n",
    "                  y=df.Women,\n",
    "                  name='Women',\n",
    "                  marker=dict(color='#ffcdd2'))\n",
    "\n",
    "trace_men = Bar(x=df.School,\n",
    "                y=df.Men,\n",
    "                name='Men',\n",
    "                marker=dict(color='#A2D5F2'))\n",
    "\n",
    "trace_gap = Bar(x=df.School,\n",
    "                y=df.gap,\n",
    "                name='Gap',\n",
    "                marker=dict(color='#59606D'))\n",
    "\n",
    "data = [trace_women, trace_men, trace_gap]\n",
    "layout = Layout(title=\"Average Earnings for Graduates\",\n",
    "                xaxis=dict(title='School'),\n",
    "                yaxis=dict(title='Salary (in thousands)'))\n",
    "fig = Figure(data=data, layout=layout)\n",
    "\n",
    "py.iplot(fig, sharing='secret', filename='jupyter/styled_bar')"
   ]
  },
  {
   "cell_type": "code",
   "execution_count": null,
   "metadata": {},
   "outputs": [],
   "source": []
  }
 ],
 "metadata": {
  "kernelspec": {
   "display_name": "Python 3",
   "language": "python",
   "name": "python3"
  },
  "language_info": {
   "codemirror_mode": {
    "name": "ipython",
    "version": 3
   },
   "file_extension": ".py",
   "mimetype": "text/x-python",
   "name": "python",
   "nbconvert_exporter": "python",
   "pygments_lexer": "ipython3",
   "version": "3.5.2"
  }
 },
 "nbformat": 4,
 "nbformat_minor": 2
}
